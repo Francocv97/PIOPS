{
 "cells": [
  {
   "cell_type": "code",
   "execution_count": 1,
   "metadata": {},
   "outputs": [],
   "source": [
    "import json\n",
    "import pandas as pd\n",
    "import ast\n",
    "from typing import Dict\n",
    "from datetime import datetime"
   ]
  },
  {
   "cell_type": "code",
   "execution_count": 2,
   "metadata": {},
   "outputs": [
    {
     "name": "stdout",
     "output_type": "stream",
     "text": [
      "{'Año de lanzamiento con más horas jugadas para Casual': 2017.0}\n"
     ]
    }
   ],
   "source": [
    "import pandas as pd\n",
    "import json\n",
    "from typing import Dict\n",
    "from datetime import datetime\n",
    "\n",
    "# Ruta a tu archivo JSON\n",
    "archivo = 'steam_games.json/output_steam_games.json'\n",
    "\n",
    "# Lista para guardar cada fila\n",
    "lista = []\n",
    "with open(archivo, encoding='utf-8') as file:\n",
    "    for line in file.readlines():\n",
    "        lista.append(json.loads(line))\n",
    "\n",
    "# Crear un DataFrame a partir de la lista\n",
    "df = pd.DataFrame(lista)\n",
    "\n",
    "# Asegúrate de que 'release_date' sea un objeto datetime\n",
    "df['release_date'] = pd.to_datetime(df['release_date'], errors='coerce', format='%Y-%m-%d')\n",
    "\n",
    "# Calcular las horas desde el lanzamiento hasta la fecha actual\n",
    "now = datetime.now()\n",
    "df['hours_since_release'] = (now - df['release_date']).dt.total_seconds() / 3600\n",
    "\n",
    "def PlayTimeGenre(genero: str) -> Dict[str, int]:\n",
    "    # Asegúrate de que todos los valores en 'genres' sean listas\n",
    "    df['genres'] = df['genres'].apply(lambda x: x if isinstance(x, list) else [])\n",
    "    \n",
    "    # Filtrar el DataFrame por el género especificado\n",
    "    df_genre = df[df['genres'].apply(lambda x: genero in x)]\n",
    "    \n",
    "    # Agrupar por año de lanzamiento y sumar las horas desde el lanzamiento\n",
    "    df_genre_year = df_genre.groupby(df_genre['release_date'].dt.year)['hours_since_release'].sum()\n",
    "    \n",
    "    # Encontrar el año de lanzamiento con más horas desde el lanzamiento\n",
    "    max_year = df_genre_year.idxmax()\n",
    "    \n",
    "    return {f\"Año de lanzamiento con más horas jugadas para {genero}\" : max_year}\n",
    "\n",
    "\n",
    "\n",
    "resultado = PlayTimeGenre(\"Casual\")\n",
    "print(resultado)\n"
   ]
  },
  {
   "cell_type": "code",
   "execution_count": 3,
   "metadata": {},
   "outputs": [],
   "source": [
    "#Para practicamente todos los Generos el maximo de horas jugadas es para el año 2017 ya que este año es \n",
    "#El año de lanzamiento de la más lanzamientos 9518"
   ]
  },
  {
   "cell_type": "code",
   "execution_count": 4,
   "metadata": {},
   "outputs": [
    {
     "name": "stdout",
     "output_type": "stream",
     "text": [
      "release_year\n",
      "1970.0       2\n",
      "1975.0       1\n",
      "1980.0       1\n",
      "1981.0       3\n",
      "1982.0       3\n",
      "1983.0       4\n",
      "1984.0       4\n",
      "1985.0       3\n",
      "1986.0       1\n",
      "1987.0       9\n",
      "1988.0       7\n",
      "1989.0      10\n",
      "1990.0      12\n",
      "1991.0      16\n",
      "1992.0      15\n",
      "1993.0      34\n",
      "1994.0      36\n",
      "1995.0      33\n",
      "1996.0      39\n",
      "1997.0      42\n",
      "1998.0      61\n",
      "1999.0      55\n",
      "2000.0      40\n",
      "2001.0      69\n",
      "2002.0      50\n",
      "2003.0      84\n",
      "2004.0      79\n",
      "2005.0     102\n",
      "2006.0     155\n",
      "2007.0     167\n",
      "2008.0     213\n",
      "2009.0     337\n",
      "2010.0     436\n",
      "2011.0     589\n",
      "2012.0    1192\n",
      "2013.0    1551\n",
      "2014.0    2832\n",
      "2015.0    4945\n",
      "2016.0    6933\n",
      "2017.0    9518\n",
      "2018.0      96\n",
      "2019.0       3\n",
      "2021.0       1\n",
      "Name: count, dtype: int64\n"
     ]
    }
   ],
   "source": [
    "# Contar cuántos juegos se lanzaron cada año\n",
    "df['release_year'] = df['release_date'].dt.year\n",
    "games_per_year = df['release_year'].value_counts().sort_index()\n",
    "\n",
    "print(games_per_year)\n"
   ]
  },
  {
   "cell_type": "code",
   "execution_count": 5,
   "metadata": {},
   "outputs": [],
   "source": [
    "#API"
   ]
  },
  {
   "cell_type": "code",
   "execution_count": 6,
   "metadata": {},
   "outputs": [
    {
     "name": "stdout",
     "output_type": "stream",
     "text": [
      "{'Año de lanzamiento con más horas jugadas para Action': 2017}\n"
     ]
    }
   ],
   "source": [
    "import nest_asyncio\n",
    "from fastapi import FastAPI\n",
    "from starlette.testclient import TestClient\n",
    "from typing import Dict\n",
    "import pandas as pd\n",
    "import json\n",
    "from datetime import datetime\n",
    "\n",
    "# Esto permite a Jupyter ejecutar código asíncrono\n",
    "nest_asyncio.apply()\n",
    "\n",
    "# Ruta a tu archivo JSON\n",
    "archivo = 'output_steam_games.json'\n",
    "\n",
    "# Lista para guardar cada fila\n",
    "lista = []\n",
    "with open(archivo, encoding='utf-8') as file:\n",
    "    for line in file.readlines():\n",
    "        lista.append(json.loads(line))\n",
    "\n",
    "# Crear un DataFrame a partir de la lista\n",
    "df = pd.DataFrame(lista)\n",
    "\n",
    "# Asegúrate de que 'release_date' sea un objeto datetime\n",
    "df['release_date'] = pd.to_datetime(df['release_date'], errors='coerce', format='%Y-%m-%d')\n",
    "\n",
    "# Calcular las horas desde el lanzamiento hasta la fecha actual\n",
    "now = datetime.now()\n",
    "df['hours_since_release'] = (now - df['release_date']).dt.total_seconds() / 3600\n",
    "\n",
    "app = FastAPI()\n",
    "\n",
    "@app.get(\"/PlayTimeGenre/{genero}\")\n",
    "def PlayTimeGenre(genero: str) -> Dict[str, int]:\n",
    "    # Asegúrate de que todos los valores en 'genres' sean listas\n",
    "    df['genres'] = df['genres'].apply(lambda x: x if isinstance(x, list) else [])\n",
    "    \n",
    "    # Filtrar el DataFrame por el género especificado\n",
    "    df_genre = df[df['genres'].apply(lambda x: genero in x)]\n",
    "    \n",
    "    # Agrupar por año de lanzamiento y sumar las horas desde el lanzamiento\n",
    "    df_genre_year = df_genre.groupby(df_genre['release_date'].dt.year)['hours_since_release'].sum()\n",
    "    \n",
    "    # Encontrar el año de lanzamiento con más horas desde el lanzamiento\n",
    "    max_year = df_genre_year.idxmax()\n",
    "    \n",
    "    return {f\"Año de lanzamiento con más horas jugadas para {genero}\" : max_year}\n",
    "\n",
    "# Crear un cliente de prueba\n",
    "client = TestClient(app)\n",
    "\n",
    "# Ahora puedes hacer solicitudes a tu API\n",
    "response = client.get(\"/PlayTimeGenre/Action\")\n",
    "print(response.json())\n"
   ]
  },
  {
   "cell_type": "code",
   "execution_count": 7,
   "metadata": {},
   "outputs": [],
   "source": [
    "#ahora vamos con la 2da funcion"
   ]
  },
  {
   "cell_type": "code",
   "execution_count": 8,
   "metadata": {},
   "outputs": [],
   "source": [
    "#Tomamos australian_user_reviews.json --> 'user_id': '76561197970982479' y 'reviews' --> 'item_id': '22200' y 'posted'\n",
    "#Asumiremos que el usuario ha jugado desde que comento la reseña hasta la fecha de hoy"
   ]
  },
  {
   "cell_type": "code",
   "execution_count": 9,
   "metadata": {},
   "outputs": [
    {
     "name": "stdout",
     "output_type": "stream",
     "text": [
      "                 user_id item_id posted_date\n",
      "0      76561197970982479    1250  2011-11-05\n",
      "1      76561197970982479   22200  2011-07-15\n",
      "2      76561197970982479   43110  2011-04-21\n",
      "3                js41637  251610  2014-06-24\n",
      "4                js41637  227300  2013-09-08\n",
      "...                  ...     ...         ...\n",
      "59275  76561198312638244      70  1900-07-10\n",
      "59276  76561198312638244  362890  1900-07-08\n",
      "59277        LydiaMorley  273110  1900-07-03\n",
      "59278        LydiaMorley     730  1900-07-20\n",
      "59279        LydiaMorley     440  1900-07-02\n",
      "\n",
      "[59280 rows x 3 columns]\n"
     ]
    }
   ],
   "source": [
    "import ast\n",
    "import pandas as pd\n",
    "import datetime\n",
    "import re\n",
    "\n",
    "# Ruta a tu archivo JSON\n",
    "archivo = 'user_reviews.json/australian_user_reviews.json'\n",
    "\n",
    "# Lista para guardar cada fila\n",
    "lista = []\n",
    "with open(archivo, encoding='utf-8') as file:\n",
    "    for line in file.readlines():\n",
    "        lista.append(ast.literal_eval(line))\n",
    "\n",
    "# Crear un DataFrame a partir de la lista\n",
    "df = pd.DataFrame(lista)\n",
    "\n",
    "# Lista para guardar las filas del nuevo DataFrame\n",
    "filas = []\n",
    "\n",
    "# Extraer solo el campo 'recommend' de cada revisión\n",
    "for index, row in df.iterrows():\n",
    "    user_id = row['user_id']\n",
    "    for review in row['reviews']:\n",
    "        item_id = review['item_id']\n",
    "        posted = review['posted']\n",
    "        \n",
    "        # Extraer la fecha del string 'posted' usando una expresión regular\n",
    "        date_match = re.search(r'Posted ([A-Za-z]+ \\d+(, \\d+)?)', posted)\n",
    "        if date_match:\n",
    "            date_str = date_match.group(1)\n",
    "            # Intentar convertir la fecha en un objeto datetime\n",
    "            try:\n",
    "                posted_date = datetime.datetime.strptime(date_str, '%B %d, %Y')\n",
    "            except ValueError:\n",
    "                try:\n",
    "                    # Si no se puede convertir con el año, intentar sin el año\n",
    "                    posted_date = datetime.datetime.strptime(date_str, '%B %d')\n",
    "                except ValueError:\n",
    "                    # Si el día está fuera de rango para el mes, continuar con la siguiente fila\n",
    "                    continue\n",
    "        \n",
    "        # Añadir la fila a la lista de filas\n",
    "        filas.append({'user_id': user_id, 'item_id': item_id, 'posted_date': posted_date})\n",
    "\n",
    "# Crear el DataFrame a partir de la lista de filas\n",
    "df_userid_item_id1 = pd.DataFrame(filas)\n",
    "\n",
    "# Imprimir el DataFrame\n",
    "print(df_userid_item_id1)\n",
    "\n",
    "\n"
   ]
  },
  {
   "cell_type": "code",
   "execution_count": 24,
   "metadata": {},
   "outputs": [],
   "source": [
    "#Tomamos australian_user_item.json --> 'user_id' y 'items' --> 'item_id': '10' , 'item_name': 'Counter-Strike' y 'playtime_forever' con valor en horas"
   ]
  },
  {
   "cell_type": "code",
   "execution_count": 11,
   "metadata": {},
   "outputs": [
    {
     "name": "stdout",
     "output_type": "stream",
     "text": [
      "                   user_id item_id  playtime_forever\n",
      "0        76561197970982479      10                 6\n",
      "1        76561197970982479      20                 0\n",
      "2        76561197970982479      30                 7\n",
      "3        76561197970982479      40                 0\n",
      "4        76561197970982479      50                 0\n",
      "...                    ...     ...               ...\n",
      "5153204  76561198329548331  346330                 0\n",
      "5153205  76561198329548331  373330                 0\n",
      "5153206  76561198329548331  388490                 3\n",
      "5153207  76561198329548331  521570                 4\n",
      "5153208  76561198329548331  519140                 3\n",
      "\n",
      "[5153209 rows x 3 columns]\n"
     ]
    }
   ],
   "source": [
    "###**** Optimizar codigo, esta muy lento o trabajar en CSV para mejor rendimiento\n",
    "\n",
    "import ast\n",
    "import pandas as pd\n",
    "\n",
    "# Ruta a tu archivo JSON\n",
    "archivo = 'users_items.json/australian_users_items.json'\n",
    "\n",
    "# Lista para guardar cada fila\n",
    "lista = []\n",
    "with open(archivo, encoding='utf-8') as file:\n",
    "    for line in file.readlines():\n",
    "        lista.append(ast.literal_eval(line))\n",
    "\n",
    "# Crear un DataFrame a partir de la lista\n",
    "df = pd.DataFrame(lista)\n",
    "\n",
    "# Lista para guardar las filas del nuevo DataFrame\n",
    "filas = []\n",
    "\n",
    "# Iterar sobre cada fila del DataFrame original\n",
    "for index, row in df.iterrows():\n",
    "    user_id = row['user_id']\n",
    "    items = row['items']\n",
    "    \n",
    "    # Iterar sobre la lista de items en cada fila\n",
    "    for item in items:\n",
    "        item_id = item['item_id']\n",
    "        playtime_forever = item['playtime_forever']\n",
    "        \n",
    "        # Añadir la fila a la lista de filas\n",
    "        filas.append({'user_id': user_id, 'item_id': item_id, 'playtime_forever': playtime_forever})\n",
    "\n",
    "# Crear el DataFrame a partir de la lista de filas\n",
    "df_userid_item_id_playtime = pd.DataFrame(filas)\n",
    "\n",
    "# Imprimir el DataFrame resultante\n",
    "print(df_userid_item_id_playtime)\n",
    "\n"
   ]
  },
  {
   "cell_type": "code",
   "execution_count": 73,
   "metadata": {},
   "outputs": [
    {
     "name": "stdout",
     "output_type": "stream",
     "text": [
      "                   user_id item_id                      item_name  \\\n",
      "0        76561197970982479      10                 Counter-Strike   \n",
      "1        76561197970982479      20          Team Fortress Classic   \n",
      "2        76561197970982479      30                  Day of Defeat   \n",
      "3        76561197970982479      40             Deathmatch Classic   \n",
      "4        76561197970982479      50      Half-Life: Opposing Force   \n",
      "...                    ...     ...                            ...   \n",
      "5153204  76561198329548331  346330                   BrainBread 2   \n",
      "5153205  76561198329548331  373330                    All Is Dust   \n",
      "5153206  76561198329548331  388490  One Way To Die: Steam Edition   \n",
      "5153207  76561198329548331  521570          You Have 10 Seconds 2   \n",
      "5153208  76561198329548331  519140                     Minds Eyes   \n",
      "\n",
      "         playtime_forever  \n",
      "0                       6  \n",
      "1                       0  \n",
      "2                       7  \n",
      "3                       0  \n",
      "4                       0  \n",
      "...                   ...  \n",
      "5153204                 0  \n",
      "5153205                 0  \n",
      "5153206                 3  \n",
      "5153207                 4  \n",
      "5153208                 3  \n",
      "\n",
      "[5153209 rows x 4 columns]\n"
     ]
    }
   ],
   "source": [
    "import ast\n",
    "import pandas as pd\n",
    "\n",
    "# Ruta a tu archivo JSON\n",
    "archivo = 'users_items.json/australian_users_items.json'\n",
    "\n",
    "# Lista para guardar cada fila\n",
    "lista = []\n",
    "with open(archivo, encoding='utf-8') as file:\n",
    "    for line in file.readlines():\n",
    "        lista.append(ast.literal_eval(line))\n",
    "\n",
    "# Crear un DataFrame a partir de la lista\n",
    "df = pd.DataFrame(lista)\n",
    "\n",
    "# Lista para guardar las filas del nuevo DataFrame\n",
    "filas = []\n",
    "\n",
    "# Iterar sobre cada fila del DataFrame original\n",
    "for index, row in df.iterrows():\n",
    "    user_id = row['user_id']\n",
    "    items = row['items']\n",
    "    \n",
    "    # Iterar sobre la lista de items en cada fila\n",
    "    for item in items:\n",
    "        item_id = item['item_id']\n",
    "        item_name = item['item_name']  # Añadir item_name\n",
    "        playtime_forever = item['playtime_forever']\n",
    "        \n",
    "        # Añadir la fila a la lista de filas\n",
    "        filas.append({'user_id': user_id, 'item_id': item_id, 'item_name': item_name, 'playtime_forever': playtime_forever})  # Añadir item_name al DataFrame\n",
    "\n",
    "# Crear el DataFrame a partir de la lista de filas\n",
    "df_userid_item_id_playtime = pd.DataFrame(filas)\n",
    "\n",
    "# Imprimir el DataFrame resultante\n",
    "print(df_userid_item_id_playtime)\n"
   ]
  },
  {
   "cell_type": "code",
   "execution_count": 75,
   "metadata": {},
   "outputs": [
    {
     "name": "stdout",
     "output_type": "stream",
     "text": [
      "                   user_id item_id                      item_name  \\\n",
      "0        76561197970982479      10                 Counter-Strike   \n",
      "1        76561197970982479      20          Team Fortress Classic   \n",
      "2        76561197970982479      30                  Day of Defeat   \n",
      "3        76561197970982479      40             Deathmatch Classic   \n",
      "4        76561197970982479      50      Half-Life: Opposing Force   \n",
      "...                    ...     ...                            ...   \n",
      "5153204  76561198329548331  346330                   BrainBread 2   \n",
      "5153205  76561198329548331  373330                    All Is Dust   \n",
      "5153206  76561198329548331  388490  One Way To Die: Steam Edition   \n",
      "5153207  76561198329548331  521570          You Have 10 Seconds 2   \n",
      "5153208  76561198329548331  519140                     Minds Eyes   \n",
      "\n",
      "         playtime_forever  \n",
      "0                       6  \n",
      "1                       0  \n",
      "2                       7  \n",
      "3                       0  \n",
      "4                       0  \n",
      "...                   ...  \n",
      "5153204                 0  \n",
      "5153205                 0  \n",
      "5153206                 3  \n",
      "5153207                 4  \n",
      "5153208                 3  \n",
      "\n",
      "[5153209 rows x 4 columns]\n"
     ]
    }
   ],
   "source": [
    "# Eliminar las filas con valores NaN en al menos una de las columnas 'user_id', 'item_id' y 'playtime_forever'\n",
    "df_userid_item_id_playtime = df_userid_item_id_playtime.dropna(subset=['user_id', 'item_id', 'item_name', 'playtime_forever'], how='any')\n",
    "\n",
    "# Imprimir el DataFrame resultante\n",
    "print(df_userid_item_id_playtime)\n"
   ]
  },
  {
   "cell_type": "code",
   "execution_count": 64,
   "metadata": {},
   "outputs": [
    {
     "name": "stdout",
     "output_type": "stream",
     "text": [
      "                                                   genres  \\\n",
      "88310       [Action, Casual, Indie, Simulation, Strategy]   \n",
      "88311                [Free to Play, Indie, RPG, Strategy]   \n",
      "88312   [Casual, Free to Play, Indie, Simulation, Sports]   \n",
      "88313                         [Action, Adventure, Casual]   \n",
      "88315                     [Action, Adventure, Simulation]   \n",
      "...                                                   ...   \n",
      "120439                 [Action, Adventure, Casual, Indie]   \n",
      "120440              [Casual, Indie, Simulation, Strategy]   \n",
      "120441                          [Casual, Indie, Strategy]   \n",
      "120442                        [Indie, Racing, Simulation]   \n",
      "120443                                    [Casual, Indie]   \n",
      "\n",
      "                           title  \n",
      "88310        Lost Summoner Kitty  \n",
      "88311                  Ironbound  \n",
      "88312    Real Pool 3D - Poolians  \n",
      "88313                    弹炸人2222  \n",
      "88315      Battle Royale Trainer  \n",
      "...                          ...  \n",
      "120439              Kebab it Up!  \n",
      "120440            Colony On Mars  \n",
      "120441  LOGistICAL: South Africa  \n",
      "120442             Russian Roads  \n",
      "120443       EXIT 2 - Directions  \n",
      "\n",
      "[30086 rows x 2 columns]\n"
     ]
    }
   ],
   "source": [
    "import json\n",
    "import pandas as pd\n",
    "\n",
    "# Ruta a tu archivo JSON\n",
    "archivo = 'output_steam_games.json'\n",
    "\n",
    "# Lista para guardar cada fila\n",
    "lista = []\n",
    "with open(archivo, encoding='utf-8') as file:\n",
    "    for line in file.readlines():\n",
    "        lista.append(json.loads(line))\n",
    "\n",
    "# Crear un DataFrame a partir de la lista\n",
    "df = pd.DataFrame(lista)\n",
    "\n",
    "# Lista para guardar las filas del nuevo DataFrame\n",
    "filas = []\n",
    "\n",
    "# Iterar sobre cada fila del DataFrame original\n",
    "for index, row in df.iterrows():\n",
    "    genres = row['genres']\n",
    "    title = row['title']\n",
    "        \n",
    "    # Añadir la fila a la lista de filas\n",
    "    filas.append({'genres': genres, 'title': title})\n",
    "\n",
    "# Crear el DataFrame a partir de la lista de filas\n",
    "df_genres_title = pd.DataFrame(filas)\n",
    "\n",
    "# Eliminar las filas con valores NaN en ambas columnas 'genres' y 'title'\n",
    "df_genres_title = df_genres_title.dropna(subset=['genres', 'title'], how='all')\n",
    "\n",
    "\n",
    "# Imprimir el DataFrame resultante\n",
    "print(df_genres_title)\n"
   ]
  },
  {
   "cell_type": "code",
   "execution_count": 13,
   "metadata": {},
   "outputs": [],
   "source": [
    "#Union de los 2 datasets"
   ]
  },
  {
   "cell_type": "code",
   "execution_count": 76,
   "metadata": {},
   "outputs": [
    {
     "name": "stdout",
     "output_type": "stream",
     "text": [
      "                 user_id item_id                         item_name  \\\n",
      "0      76561197970982479   22200                        Zeno Clash   \n",
      "1      76561197970982479    1250                     Killing Floor   \n",
      "2      76561197970982479   43110                        Metro 2033   \n",
      "3                js41637  227300            Euro Truck Simulator 2   \n",
      "4                js41637  239030                    Papers, Please   \n",
      "...                  ...     ...                               ...   \n",
      "46291           Ghoustik     730  Counter-Strike: Global Offensive   \n",
      "46292  76561198312638244      70                         Half-Life   \n",
      "46293  76561198312638244     130             Half-Life: Blue Shift   \n",
      "46294  76561198312638244  233270           Far Cry® 3 Blood Dragon   \n",
      "46295  76561198312638244  362890                        Black Mesa   \n",
      "\n",
      "       playtime_forever posted_date  \n",
      "0                   271  2011-07-15  \n",
      "1                 10006  2011-11-05  \n",
      "2                   834  2011-04-21  \n",
      "3                   551  2013-09-08  \n",
      "4                   349  2013-11-29  \n",
      "...                 ...         ...  \n",
      "46291              3969  1900-06-17  \n",
      "46292              1010  1900-07-10  \n",
      "46293               221  1900-07-10  \n",
      "46294               533  1900-07-21  \n",
      "46295              2184  1900-07-08  \n",
      "\n",
      "[46296 rows x 5 columns]\n"
     ]
    }
   ],
   "source": [
    "# Unir los DataFrames en las columnas 'user_id' y 'item_id'\n",
    "df_merged_df_userid_item_id_playtime_df_userid_item_id1 = pd.merge(df_userid_item_id_playtime, df_userid_item_id1, on=['user_id', 'item_id'], how='inner')\n",
    "\n",
    "# Imprimir el DataFrame resultante\n",
    "print(df_merged_df_userid_item_id_playtime_df_userid_item_id1)\n"
   ]
  },
  {
   "cell_type": "code",
   "execution_count": 77,
   "metadata": {},
   "outputs": [
    {
     "name": "stdout",
     "output_type": "stream",
     "text": [
      "Hay 8347 filas con fechas anteriores a 1990.\n"
     ]
    }
   ],
   "source": [
    "# Convertir la columna 'posted_date' a datetime\n",
    "df_merged_df_userid_item_id_playtime_df_userid_item_id1['posted_date'] = pd.to_datetime(df_merged_df_userid_item_id_playtime_df_userid_item_id1['posted_date'])\n",
    "\n",
    "# Crear un filtro para las fechas anteriores a 1990\n",
    "filtro = df_merged_df_userid_item_id_playtime_df_userid_item_id1['posted_date'].dt.year < 1990\n",
    "\n",
    "# Contar el número de filas con fechas anteriores a 1990\n",
    "num_filas = df_merged_df_userid_item_id_playtime_df_userid_item_id1[filtro].shape[0]\n",
    "\n",
    "print(f'Hay {num_filas} filas con fechas anteriores a 1990.')\n"
   ]
  },
  {
   "cell_type": "code",
   "execution_count": 79,
   "metadata": {},
   "outputs": [
    {
     "name": "stdout",
     "output_type": "stream",
     "text": [
      "                 user_id item_id  \\\n",
      "0      76561197970982479   22200   \n",
      "1      76561197970982479    1250   \n",
      "2      76561197970982479   43110   \n",
      "3                js41637  227300   \n",
      "4                js41637  239030   \n",
      "...                  ...     ...   \n",
      "46261            wayfeng     730   \n",
      "46263  76561198251004808  253980   \n",
      "46268        72947282842     730   \n",
      "46269          ApxLGhost     730   \n",
      "46276  76561198267374962  369200   \n",
      "\n",
      "                                               item_name  playtime_forever  \\\n",
      "0                                             Zeno Clash               271   \n",
      "1                                          Killing Floor             10006   \n",
      "2                                             Metro 2033               834   \n",
      "3                                 Euro Truck Simulator 2               551   \n",
      "4                                         Papers, Please               349   \n",
      "...                                                  ...               ...   \n",
      "46261                   Counter-Strike: Global Offensive             42740   \n",
      "46263                                            Enclave              1098   \n",
      "46268                   Counter-Strike: Global Offensive                33   \n",
      "46269                   Counter-Strike: Global Offensive             10121   \n",
      "46276  Ghost in the Shell Stand Alone Complex First A...              2181   \n",
      "\n",
      "      posted_date  \n",
      "0      2011-07-15  \n",
      "1      2011-11-05  \n",
      "2      2011-04-21  \n",
      "3      2013-09-08  \n",
      "4      2013-11-29  \n",
      "...           ...  \n",
      "46261  2015-10-14  \n",
      "46263  2015-10-10  \n",
      "46268  2015-10-31  \n",
      "46269  2015-12-14  \n",
      "46276  2015-12-29  \n",
      "\n",
      "[37949 rows x 5 columns]\n"
     ]
    }
   ],
   "source": [
    "# Crear un filtro para las fechas posteriores a 1989\n",
    "filtro = df_merged_df_userid_item_id_playtime_df_userid_item_id1['posted_date'].dt.year >= 1990\n",
    "\n",
    "# Aplicar el filtro al DataFrame\n",
    "df_merged = df_merged_df_userid_item_id_playtime_df_userid_item_id1[filtro]\n",
    "\n",
    "# Imprimir el DataFrame resultante\n",
    "print(df_merged)\n"
   ]
  },
  {
   "cell_type": "code",
   "execution_count": null,
   "metadata": {},
   "outputs": [],
   "source": [
    "#Union con el DF que falta (genres - title)"
   ]
  },
  {
   "cell_type": "code",
   "execution_count": 83,
   "metadata": {},
   "outputs": [
    {
     "name": "stdout",
     "output_type": "stream",
     "text": [
      "                         user_id item_id            item_name  \\\n",
      "0              76561197970982479   22200           Zeno Clash   \n",
      "1      seantheextraprawnsheepguy   22200           Zeno Clash   \n",
      "2                     pipekissXD   22200           Zeno Clash   \n",
      "3               ClockworkLunatic   22200           Zeno Clash   \n",
      "4                      vschiffer   22200           Zeno Clash   \n",
      "...                          ...     ...                  ...   \n",
      "27221                    K1NGCJS  294230               Millie   \n",
      "27222             laislabonita75  305920  Another Perspective   \n",
      "27223             laislabonita75  367780         Aero's Quest   \n",
      "27224            evilindiegaming  367780         Aero's Quest   \n",
      "27225                llDracuwulf  307130              Asteria   \n",
      "\n",
      "       playtime_forever posted_date                      genres  \\\n",
      "0                   271  2011-07-15             [Action, Indie]   \n",
      "1                   240  2011-07-16             [Action, Indie]   \n",
      "2                   690  2013-11-25             [Action, Indie]   \n",
      "3                    23  2015-01-05             [Action, Indie]   \n",
      "4                   294  2012-02-11             [Action, Indie]   \n",
      "...                 ...         ...                         ...   \n",
      "27221               167  2015-07-22     [Action, Casual, Indie]   \n",
      "27222                16  2015-06-13          [Adventure, Indie]   \n",
      "27223                33  2015-06-11             [Action, Indie]   \n",
      "27224               107  2015-06-13             [Action, Indie]   \n",
      "27225               211  2015-10-29  [Action, Adventure, Indie]   \n",
      "\n",
      "                     title  \n",
      "0               Zeno Clash  \n",
      "1               Zeno Clash  \n",
      "2               Zeno Clash  \n",
      "3               Zeno Clash  \n",
      "4               Zeno Clash  \n",
      "...                    ...  \n",
      "27221               Millie  \n",
      "27222  Another Perspective  \n",
      "27223         Aero's Quest  \n",
      "27224         Aero's Quest  \n",
      "27225              Asteria  \n",
      "\n",
      "[27226 rows x 7 columns]\n"
     ]
    }
   ],
   "source": [
    "# Unir los DataFrames en las columnas 'item_name' y 'title'\n",
    "df_merged1 = pd.merge(df_merged, df_genres_title, left_on='item_name', right_on='title', how='inner')\n",
    "\n",
    "# Imprimir el DataFrame resultante\n",
    "print(df_merged1)\n"
   ]
  },
  {
   "cell_type": "code",
   "execution_count": 90,
   "metadata": {},
   "outputs": [
    {
     "name": "stdout",
     "output_type": "stream",
     "text": [
      "{'Usuario con más horas jugadas para Género X': '76561198063648921', 'Horas jugadas': [{'year': 2010, 'playtime_forever': 50721}, {'year': 2011, 'playtime_forever': 1408086}, {'year': 2012, 'playtime_forever': 1660938}, {'year': 2013, 'playtime_forever': 11241102}, {'year': 2014, 'playtime_forever': 28414232}, {'year': 2015, 'playtime_forever': 24196292}]}\n"
     ]
    },
    {
     "name": "stderr",
     "output_type": "stream",
     "text": [
      "C:\\Users\\MW6529\\AppData\\Local\\Temp\\ipykernel_19476\\2084833676.py:12: SettingWithCopyWarning: \n",
      "A value is trying to be set on a copy of a slice from a DataFrame.\n",
      "Try using .loc[row_indexer,col_indexer] = value instead\n",
      "\n",
      "See the caveats in the documentation: https://pandas.pydata.org/pandas-docs/stable/user_guide/indexing.html#returning-a-view-versus-a-copy\n",
      "  df_genre['year'] = df_genre['posted_date'].dt.year\n"
     ]
    }
   ],
   "source": [
    "def UserForGenre(df_merged1, genero):\n",
    "    # Filtrar el DataFrame por género\n",
    "    df_genre = df_merged1[df_merged1['genres'].apply(lambda x: genero in x if isinstance(x, list) else False)]\n",
    "    \n",
    "    # Agrupar por 'user_id' y sumar 'playtime_forever'\n",
    "    df_grouped = df_genre.groupby('user_id')['playtime_forever'].sum().reset_index()\n",
    "    \n",
    "    # Encontrar el usuario con más horas jugadas\n",
    "    max_playtime_user = df_grouped[df_grouped['playtime_forever'] == df_grouped['playtime_forever'].max()]['user_id'].values[0]\n",
    "    \n",
    "    # Crear un DataFrame con las horas jugadas por año\n",
    "    df_genre['year'] = df_genre['posted_date'].dt.year\n",
    "    df_hours_per_year = df_genre.groupby('year')['playtime_forever'].sum().reset_index()\n",
    "    hours_per_year = df_hours_per_year.to_dict('records')\n",
    "    \n",
    "    return {\"Usuario con más horas jugadas para Género X\": max_playtime_user, \"Horas jugadas\": hours_per_year}\n",
    "\n",
    "# Prueba la función con el género \"Action\"\n",
    "resultado = UserForGenre(df_merged1, \"Simulation\")\n",
    "\n",
    "# Imprime el resultado\n",
    "print(resultado)\n"
   ]
  }
 ],
 "metadata": {
  "kernelspec": {
   "display_name": "Python 3",
   "language": "python",
   "name": "python3"
  },
  "language_info": {
   "codemirror_mode": {
    "name": "ipython",
    "version": 3
   },
   "file_extension": ".py",
   "mimetype": "text/x-python",
   "name": "python",
   "nbconvert_exporter": "python",
   "pygments_lexer": "ipython3",
   "version": "3.12.0"
  }
 },
 "nbformat": 4,
 "nbformat_minor": 2
}
