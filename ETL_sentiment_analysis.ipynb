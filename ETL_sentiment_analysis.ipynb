{
 "cells": [
  {
   "cell_type": "code",
   "execution_count": 11,
   "metadata": {},
   "outputs": [],
   "source": [
    "import json\n"
   ]
  },
  {
   "cell_type": "code",
   "execution_count": 7,
   "metadata": {},
   "outputs": [],
   "source": [
    "import math\n",
    "import pandas as pd"
   ]
  },
  {
   "cell_type": "code",
   "execution_count": 3,
   "metadata": {},
   "outputs": [],
   "source": [
    "# Exploración de los archivos Json y limpieza preliminar a modo de poder trabajarlos"
   ]
  },
  {
   "cell_type": "code",
   "execution_count": 1,
   "metadata": {},
   "outputs": [],
   "source": [
    "import ast"
   ]
  },
  {
   "cell_type": "code",
   "execution_count": null,
   "metadata": {},
   "outputs": [],
   "source": [
    "#Cargamos el archivo json en una lista y luego en un dataframe"
   ]
  },
  {
   "cell_type": "code",
   "execution_count": 33,
   "metadata": {},
   "outputs": [],
   "source": [
    "archivo = 'user_reviews.json/australian_user_reviews.json'\n",
    "#lista para guardar cada fila\n",
    "lista = []\n",
    "with open(archivo, encoding='utf-8') as file:\n",
    "    for line in file.readlines():\n",
    "        lista.append(ast.literal_eval(line))\n",
    "\n",
    "# Crear un DataFrame a partir de la lista\n",
    "df = pd.DataFrame(lista)"
   ]
  },
  {
   "cell_type": "code",
   "execution_count": 32,
   "metadata": {},
   "outputs": [
    {
     "name": "stdout",
     "output_type": "stream",
     "text": [
      "             user_id                                           user_url  \\\n",
      "0  76561197970982479  http://steamcommunity.com/profiles/76561197970...   \n",
      "1            js41637               http://steamcommunity.com/id/js41637   \n",
      "2          evcentric             http://steamcommunity.com/id/evcentric   \n",
      "3              doctr                 http://steamcommunity.com/id/doctr   \n",
      "4          maplemage             http://steamcommunity.com/id/maplemage   \n",
      "\n",
      "                                             reviews  \n",
      "0  [{'funny': '', 'posted': 'Posted November 5, 2...  \n",
      "1  [{'funny': '', 'posted': 'Posted June 24, 2014...  \n",
      "2  [{'funny': '', 'posted': 'Posted February 3.',...  \n",
      "3  [{'funny': '', 'posted': 'Posted October 14, 2...  \n",
      "4  [{'funny': '3 people found this review funny',...  \n"
     ]
    }
   ],
   "source": [
    "print(df.head(5))"
   ]
  },
  {
   "cell_type": "code",
   "execution_count": 35,
   "metadata": {},
   "outputs": [
    {
     "name": "stdout",
     "output_type": "stream",
     "text": [
      "                 user_id  recommend\n",
      "0      76561197970982479       True\n",
      "1      76561197970982479       True\n",
      "2      76561197970982479       True\n",
      "3                js41637       True\n",
      "4                js41637       True\n",
      "...                  ...        ...\n",
      "59300  76561198312638244       True\n",
      "59301  76561198312638244       True\n",
      "59302        LydiaMorley       True\n",
      "59303        LydiaMorley       True\n",
      "59304        LydiaMorley       True\n",
      "\n",
      "[59305 rows x 2 columns]\n"
     ]
    }
   ],
   "source": [
    "import ast\n",
    "import pandas as pd\n",
    "\n",
    "# Ruta a tu archivo JSON\n",
    "archivo = 'user_reviews.json/australian_user_reviews.json'\n",
    "\n",
    "# Lista para guardar cada fila\n",
    "lista = []\n",
    "with open(archivo, encoding='utf-8') as file:\n",
    "    for line in file.readlines():\n",
    "        lista.append(ast.literal_eval(line))\n",
    "\n",
    "# Crear un DataFrame a partir de la lista\n",
    "df = pd.DataFrame(lista)\n",
    "\n",
    "# Crear un nuevo DataFrame vacío\n",
    "df_userid_recommend = pd.DataFrame(columns=['user_id', 'recommend'])\n",
    "\n",
    "# Extraer solo el campo 'recommend' de cada revisión\n",
    "for index, row in df.iterrows():\n",
    "    user_id = row['user_id']\n",
    "    for review in row['reviews']:\n",
    "        recommend = review['recommend']\n",
    "        # Añadir la fila al DataFrame\n",
    "        df_userid_recommend.loc[len(df_userid_recommend)] = [user_id, recommend]\n",
    "\n",
    "# Imprimir el DataFrame\n",
    "print(df_userid_recommend)\n"
   ]
  },
  {
   "cell_type": "code",
   "execution_count": 41,
   "metadata": {},
   "outputs": [
    {
     "name": "stdout",
     "output_type": "stream",
     "text": [
      "[ True False]\n"
     ]
    }
   ],
   "source": [
    "# Obtener los valores únicos en 'recommend'\n",
    "unique_values = df_userid_recommend['recommend'].unique()\n",
    "\n",
    "# Imprimir los valores únicos\n",
    "print(unique_values)\n"
   ]
  },
  {
   "cell_type": "code",
   "execution_count": 42,
   "metadata": {},
   "outputs": [
    {
     "name": "stdout",
     "output_type": "stream",
     "text": [
      "                 user_id  recommend  sentiment_analysis\n",
      "0      76561197970982479       True                   2\n",
      "1      76561197970982479       True                   2\n",
      "2      76561197970982479       True                   2\n",
      "3                js41637       True                   2\n",
      "4                js41637       True                   2\n",
      "...                  ...        ...                 ...\n",
      "59300  76561198312638244       True                   2\n",
      "59301  76561198312638244       True                   2\n",
      "59302        LydiaMorley       True                   2\n",
      "59303        LydiaMorley       True                   2\n",
      "59304        LydiaMorley       True                   2\n",
      "\n",
      "[59305 rows x 3 columns]\n"
     ]
    }
   ],
   "source": [
    "import pandas as pd\n",
    "\n",
    "# Ruta a tu archivo JSON\n",
    "archivo = 'user_reviews.json/australian_user_reviews.json'\n",
    "\n",
    "# Lista para guardar cada fila\n",
    "lista = []\n",
    "with open(archivo, encoding='utf-8') as file:\n",
    "    for line in file.readlines():\n",
    "        lista.append(ast.literal_eval(line))\n",
    "\n",
    "# Crear un DataFrame a partir de la lista\n",
    "df = pd.DataFrame(lista)\n",
    "\n",
    "# Crear un nuevo DataFrame vacío\n",
    "df_userid_recommend = pd.DataFrame(columns=['user_id', 'recommend', 'sentiment_analysis'])\n",
    "\n",
    "# Extraer solo el campo 'recommend' de cada revisión y crear 'sentiment_analysis'\n",
    "for index, row in df.iterrows():\n",
    "    user_id = row['user_id']\n",
    "    for review in row['reviews']:\n",
    "        recommend = review['recommend']\n",
    "        if recommend is True:\n",
    "            sentiment_analysis = 2  # Positivo\n",
    "        elif recommend is False:\n",
    "            sentiment_analysis = 0  # Malo\n",
    "        else:\n",
    "            sentiment_analysis = 1  # Neutral (sin reseña)\n",
    "        \n",
    "        # Añadir la fila al DataFrame\n",
    "        df_userid_recommend.loc[len(df_userid_recommend)] = [user_id, recommend, sentiment_analysis]\n",
    "\n",
    "# Imprimir el DataFrame\n",
    "print(df_userid_recommend)\n"
   ]
  },
  {
   "cell_type": "code",
   "execution_count": 44,
   "metadata": {},
   "outputs": [
    {
     "name": "stdout",
     "output_type": "stream",
     "text": [
      "[2 0]\n"
     ]
    }
   ],
   "source": [
    "# Obtener los valores únicos en 'recommend'\n",
    "unique_values = df_userid_recommend['sentiment_analysis'].unique()\n",
    "\n",
    "# Imprimir los valores únicos\n",
    "print(unique_values)"
   ]
  },
  {
   "cell_type": "code",
   "execution_count": null,
   "metadata": {},
   "outputs": [],
   "source": []
  }
 ],
 "metadata": {
  "kernelspec": {
   "display_name": "Python 3",
   "language": "python",
   "name": "python3"
  },
  "language_info": {
   "codemirror_mode": {
    "name": "ipython",
    "version": 3
   },
   "file_extension": ".py",
   "mimetype": "text/x-python",
   "name": "python",
   "nbconvert_exporter": "python",
   "pygments_lexer": "ipython3",
   "version": "3.12.0"
  }
 },
 "nbformat": 4,
 "nbformat_minor": 2
}
